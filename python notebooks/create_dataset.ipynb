{
 "cells": [
  {
   "cell_type": "code",
   "execution_count": 2,
   "id": "1497a01e",
   "metadata": {},
   "outputs": [],
   "source": [
    "filename1 =\"Linear_algebra_and_its_applications_by_Strang_G._z-lib.org.pdf\"\n",
    "\n",
    "import fitz  # this is pymupdf\n",
    "doc1= fitz.open(filename1)"
   ]
  },
  {
   "cell_type": "code",
   "execution_count": 3,
   "id": "f20d4942",
   "metadata": {},
   "outputs": [],
   "source": [
    "def cleanText(text,pat):\n",
    "    ret=[]\n",
    "    for t in text:\n",
    "        for tt in t.split('\\n'):\n",
    "            finds = re.findall(pat,tt)\n",
    "            if tt in finds:\n",
    "                index= finds.index(tt)\n",
    "                tt= tt.replace(finds[index],'')\n",
    "            if tt== ['']*len(tt) or len(tt.split(' ')) < 4:\n",
    "                continue\n",
    "            ret.append(tt)\n",
    "    return ret\n",
    "def getlabel(i):\n",
    "    switch={0<=i<76:'gauss elim' , \n",
    "            76<=i<158:'vector spaces',\n",
    "            158<=i<224:'orthogonality',\n",
    "            224<=i<259:'determinants',\n",
    "            259<=i<344:'eigenvec_val',\n",
    "            344<=i<389:'pos_def_matrices',\n",
    "            389<=i<416:'computations',\n",
    "            416<=i<458:'linear_prog'\n",
    "           }\n",
    "    return switch.get(True,\"out of pages\")"
   ]
  },
  {
   "cell_type": "code",
   "execution_count": 17,
   "id": "eadbe918",
   "metadata": {},
   "outputs": [],
   "source": [
    "import re\n",
    "p2= r'^\\d*$|^\\d+\\s?\\d+$|^.\\w$|^\\w?\\s?=+|^[a-zA-Z](?!\\w)|^�*$|^\\d*\\.\\d*$'\n",
    "pages=[]\n",
    "l = []\n",
    "for i in range(10,458): #first page of first chapter to last page of last chapter\n",
    "    pages.append([i for i in (cleanText(doc1[i].get_text().split('\\n'),p2)) if i ])\n",
    "    l.append(getlabel(i-10))"
   ]
  },
  {
   "cell_type": "code",
   "execution_count": 18,
   "id": "97896e07",
   "metadata": {},
   "outputs": [],
   "source": [
    "labels_dct= {'text': [\"\".join(p) for p in pages],\n",
    "             'label': l\n",
    "            }"
   ]
  },
  {
   "cell_type": "code",
   "execution_count": 19,
   "id": "998a5cb0",
   "metadata": {},
   "outputs": [
    {
     "data": {
      "text/plain": [
       "(448, 448)"
      ]
     },
     "execution_count": 19,
     "metadata": {},
     "output_type": "execute_result"
    }
   ],
   "source": [
    "len(labels_dct['text']), len(labels_dct['label'])"
   ]
  },
  {
   "cell_type": "code",
   "execution_count": 20,
   "id": "eb9758eb",
   "metadata": {},
   "outputs": [],
   "source": [
    "import pandas as pd"
   ]
  },
  {
   "cell_type": "code",
   "execution_count": 29,
   "id": "727e6ef5",
   "metadata": {},
   "outputs": [
    {
     "data": {
      "text/html": [
       "<div>\n",
       "<style scoped>\n",
       "    .dataframe tbody tr th:only-of-type {\n",
       "        vertical-align: middle;\n",
       "    }\n",
       "\n",
       "    .dataframe tbody tr th {\n",
       "        vertical-align: top;\n",
       "    }\n",
       "\n",
       "    .dataframe thead th {\n",
       "        text-align: right;\n",
       "    }\n",
       "</style>\n",
       "<table border=\"1\" class=\"dataframe\">\n",
       "  <thead>\n",
       "    <tr style=\"text-align: right;\">\n",
       "      <th></th>\n",
       "      <th>text</th>\n",
       "      <th>label</th>\n",
       "    </tr>\n",
       "  </thead>\n",
       "  <tbody>\n",
       "    <tr>\n",
       "      <th>0</th>\n",
       "      <td>7.3 Computation of EigenvaluesExample 2. (to c...</td>\n",
       "      <td>computations</td>\n",
       "    </tr>\n",
       "    <tr>\n",
       "      <th>1</th>\n",
       "      <td>5.3 Difference Equations and Powers AkDifferen...</td>\n",
       "      <td>eigenvec_val</td>\n",
       "    </tr>\n",
       "    <tr>\n",
       "      <th>2</th>\n",
       "      <td>2.3 Linear Independence, Basis, and DimensionE...</td>\n",
       "      <td>vector spaces</td>\n",
       "    </tr>\n",
       "    <tr>\n",
       "      <th>3</th>\n",
       "      <td>1.6 Inverses and Transposes(a) Find a nonzero ...</td>\n",
       "      <td>gauss elim</td>\n",
       "    </tr>\n",
       "    <tr>\n",
       "      <th>4</th>\n",
       "      <td>1.7 Special Matrices and Applications(a) Facto...</td>\n",
       "      <td>gauss elim</td>\n",
       "    </tr>\n",
       "  </tbody>\n",
       "</table>\n",
       "</div>"
      ],
      "text/plain": [
       "                                                text          label\n",
       "0  7.3 Computation of EigenvaluesExample 2. (to c...   computations\n",
       "1  5.3 Difference Equations and Powers AkDifferen...   eigenvec_val\n",
       "2  2.3 Linear Independence, Basis, and DimensionE...  vector spaces\n",
       "3  1.6 Inverses and Transposes(a) Find a nonzero ...     gauss elim\n",
       "4  1.7 Special Matrices and Applications(a) Facto...     gauss elim"
      ]
     },
     "execution_count": 29,
     "metadata": {},
     "output_type": "execute_result"
    }
   ],
   "source": [
    "df= pd.DataFrame(labels_dct)\n",
    "df= df.sample(frac=1).reset_index(drop=True)\n",
    "df.to_csv('whole_page_dataset.csv', index=False)\n",
    "df.head()"
   ]
  },
  {
   "cell_type": "code",
   "execution_count": 22,
   "id": "e5cc0808",
   "metadata": {},
   "outputs": [],
   "source": [
    "lt=[]\n",
    "lb=[]\n",
    "for i in range(len(pages)): \n",
    "    for sentence in pages[i]:\n",
    "        lt.append(\"\".join(sentence))\n",
    "        lb.append(getlabel(i))"
   ]
  },
  {
   "cell_type": "code",
   "execution_count": 23,
   "id": "b0ef9419",
   "metadata": {},
   "outputs": [
    {
     "data": {
      "text/plain": [
       "(12479, 12479)"
      ]
     },
     "execution_count": 23,
     "metadata": {},
     "output_type": "execute_result"
    }
   ],
   "source": [
    "len(lt), len(lb)"
   ]
  },
  {
   "cell_type": "code",
   "execution_count": 31,
   "id": "db5b832d",
   "metadata": {},
   "outputs": [
    {
     "data": {
      "text/html": [
       "<div>\n",
       "<style scoped>\n",
       "    .dataframe tbody tr th:only-of-type {\n",
       "        vertical-align: middle;\n",
       "    }\n",
       "\n",
       "    .dataframe tbody tr th {\n",
       "        vertical-align: top;\n",
       "    }\n",
       "\n",
       "    .dataframe thead th {\n",
       "        text-align: right;\n",
       "    }\n",
       "</style>\n",
       "<table border=\"1\" class=\"dataframe\">\n",
       "  <thead>\n",
       "    <tr style=\"text-align: right;\">\n",
       "      <th></th>\n",
       "      <th>text</th>\n",
       "      <th>label</th>\n",
       "    </tr>\n",
       "  </thead>\n",
       "  <tbody>\n",
       "    <tr>\n",
       "      <th>0</th>\n",
       "      <td>Matrices and Gaussian Elimination</td>\n",
       "      <td>gauss elim</td>\n",
       "    </tr>\n",
       "    <tr>\n",
       "      <th>1</th>\n",
       "      <td>This book begins with the central problem of l...</td>\n",
       "      <td>gauss elim</td>\n",
       "    </tr>\n",
       "    <tr>\n",
       "      <th>2</th>\n",
       "      <td>The most important ease, and the simplest, is ...</td>\n",
       "      <td>gauss elim</td>\n",
       "    </tr>\n",
       "    <tr>\n",
       "      <th>3</th>\n",
       "      <td>number of equations. We have n equations in n ...</td>\n",
       "      <td>gauss elim</td>\n",
       "    </tr>\n",
       "    <tr>\n",
       "      <th>4</th>\n",
       "      <td>1x + 2y =</td>\n",
       "      <td>gauss elim</td>\n",
       "    </tr>\n",
       "  </tbody>\n",
       "</table>\n",
       "</div>"
      ],
      "text/plain": [
       "                                                text       label\n",
       "0                  Matrices and Gaussian Elimination  gauss elim\n",
       "1  This book begins with the central problem of l...  gauss elim\n",
       "2  The most important ease, and the simplest, is ...  gauss elim\n",
       "3  number of equations. We have n equations in n ...  gauss elim\n",
       "4                                          1x + 2y =  gauss elim"
      ]
     },
     "execution_count": 31,
     "metadata": {},
     "output_type": "execute_result"
    }
   ],
   "source": [
    "df2= pd.DataFrame( (lt,lb) )\n",
    "df2= df2.transpose()\n",
    "df2.columns=['text','label']\n",
    "df2.to_csv('whole_sentence_dataset.csv', index=False)\n",
    "df2.head()"
   ]
  },
  {
   "cell_type": "code",
   "execution_count": 32,
   "id": "9b1c9b2d",
   "metadata": {},
   "outputs": [],
   "source": [
    "df_train= df.sample(frac=0.8,random_state=42)\n",
    "df_test = df.drop(df_train.index)"
   ]
  },
  {
   "cell_type": "code",
   "execution_count": 33,
   "id": "aa6b58ef",
   "metadata": {},
   "outputs": [],
   "source": [
    "df2_train= df2.sample(frac=0.8,random_state=42)\n",
    "df2_test = df2.drop(df_train.index)"
   ]
  },
  {
   "cell_type": "code",
   "execution_count": 14,
   "id": "33111e62",
   "metadata": {},
   "outputs": [
    {
     "ename": "FileExistsError",
     "evalue": "[Errno 17] File exists: 'Data/pages/Train'",
     "output_type": "error",
     "traceback": [
      "\u001b[0;31m---------------------------------------------------------------------------\u001b[0m",
      "\u001b[0;31mFileExistsError\u001b[0m                           Traceback (most recent call last)",
      "\u001b[0;32m<ipython-input-14-902f5944939c>\u001b[0m in \u001b[0;36m<module>\u001b[0;34m\u001b[0m\n\u001b[1;32m      1\u001b[0m \u001b[0;32mimport\u001b[0m \u001b[0mos\u001b[0m\u001b[0;34m\u001b[0m\u001b[0;34m\u001b[0m\u001b[0m\n\u001b[0;32m----> 2\u001b[0;31m \u001b[0mos\u001b[0m\u001b[0;34m.\u001b[0m\u001b[0mmakedirs\u001b[0m\u001b[0;34m(\u001b[0m\u001b[0;34m'Data/pages/Train'\u001b[0m\u001b[0;34m)\u001b[0m\u001b[0;34m\u001b[0m\u001b[0;34m\u001b[0m\u001b[0m\n\u001b[0m\u001b[1;32m      3\u001b[0m \u001b[0mos\u001b[0m\u001b[0;34m.\u001b[0m\u001b[0mmakedirs\u001b[0m\u001b[0;34m(\u001b[0m\u001b[0;34m'Data/pages/Test'\u001b[0m\u001b[0;34m)\u001b[0m\u001b[0;34m\u001b[0m\u001b[0;34m\u001b[0m\u001b[0m\n\u001b[1;32m      4\u001b[0m \u001b[0mos\u001b[0m\u001b[0;34m.\u001b[0m\u001b[0mmakedirs\u001b[0m\u001b[0;34m(\u001b[0m\u001b[0;34m'Data/sentences/Train'\u001b[0m\u001b[0;34m)\u001b[0m\u001b[0;34m\u001b[0m\u001b[0;34m\u001b[0m\u001b[0m\n\u001b[1;32m      5\u001b[0m \u001b[0mos\u001b[0m\u001b[0;34m.\u001b[0m\u001b[0mmakedirs\u001b[0m\u001b[0;34m(\u001b[0m\u001b[0;34m'Data/sentences/Test'\u001b[0m\u001b[0;34m)\u001b[0m\u001b[0;34m\u001b[0m\u001b[0;34m\u001b[0m\u001b[0m\n",
      "\u001b[0;32m~/anaconda3/lib/python3.8/os.py\u001b[0m in \u001b[0;36mmakedirs\u001b[0;34m(name, mode, exist_ok)\u001b[0m\n\u001b[1;32m    221\u001b[0m             \u001b[0;32mreturn\u001b[0m\u001b[0;34m\u001b[0m\u001b[0;34m\u001b[0m\u001b[0m\n\u001b[1;32m    222\u001b[0m     \u001b[0;32mtry\u001b[0m\u001b[0;34m:\u001b[0m\u001b[0;34m\u001b[0m\u001b[0;34m\u001b[0m\u001b[0m\n\u001b[0;32m--> 223\u001b[0;31m         \u001b[0mmkdir\u001b[0m\u001b[0;34m(\u001b[0m\u001b[0mname\u001b[0m\u001b[0;34m,\u001b[0m \u001b[0mmode\u001b[0m\u001b[0;34m)\u001b[0m\u001b[0;34m\u001b[0m\u001b[0;34m\u001b[0m\u001b[0m\n\u001b[0m\u001b[1;32m    224\u001b[0m     \u001b[0;32mexcept\u001b[0m \u001b[0mOSError\u001b[0m\u001b[0;34m:\u001b[0m\u001b[0;34m\u001b[0m\u001b[0;34m\u001b[0m\u001b[0m\n\u001b[1;32m    225\u001b[0m         \u001b[0;31m# Cannot rely on checking for EEXIST, since the operating system\u001b[0m\u001b[0;34m\u001b[0m\u001b[0;34m\u001b[0m\u001b[0;34m\u001b[0m\u001b[0m\n",
      "\u001b[0;31mFileExistsError\u001b[0m: [Errno 17] File exists: 'Data/pages/Train'"
     ]
    }
   ],
   "source": [
    "import os\n",
    "os.makedirs('Data/pages')\n",
    "os.makedirs('Data/sentences')"
   ]
  },
  {
   "cell_type": "code",
   "execution_count": 34,
   "id": "b8c1edcd",
   "metadata": {},
   "outputs": [],
   "source": [
    "df_train.to_csv('Data/pages/page_train.csv', index=False)\n",
    "df_test.to_csv('Data/pages/page_test.csv', index=False)\n",
    "df2_train.to_csv('Data/sentences/sentence_train.csv', index=False)\n",
    "df2_test.to_csv('Data/sentences/sentence_test.csv', index=False)"
   ]
  },
  {
   "cell_type": "code",
   "execution_count": null,
   "id": "ed3d064a",
   "metadata": {},
   "outputs": [],
   "source": []
  }
 ],
 "metadata": {
  "kernelspec": {
   "display_name": "Python 3",
   "language": "python",
   "name": "python3"
  },
  "language_info": {
   "codemirror_mode": {
    "name": "ipython",
    "version": 3
   },
   "file_extension": ".py",
   "mimetype": "text/x-python",
   "name": "python",
   "nbconvert_exporter": "python",
   "pygments_lexer": "ipython3",
   "version": "3.8.8"
  }
 },
 "nbformat": 4,
 "nbformat_minor": 5
}
