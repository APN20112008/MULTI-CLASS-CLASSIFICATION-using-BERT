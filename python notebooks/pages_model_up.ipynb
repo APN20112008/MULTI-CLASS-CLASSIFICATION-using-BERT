{
  "cells": [
    {
      "cell_type": "code",
      "execution_count": 2,
      "metadata": {
        "colab": {
          "base_uri": "https://localhost:8080/",
          "height": 35
        },
        "id": "sayLI9focQSw",
        "outputId": "28861650-f21f-49fb-c7d9-3ae4a0c93d9e"
      },
      "outputs": [
        {
          "output_type": "execute_result",
          "data": {
            "application/vnd.google.colaboratory.intrinsic+json": {
              "type": "string"
            },
            "text/plain": [
              "'1.10.0+cu111'"
            ]
          },
          "metadata": {},
          "execution_count": 2
        }
      ],
      "source": [
        "import torch\n",
        "import torch.nn as nn\n",
        "import numpy as np\n",
        "import pandas as pd\n",
        "import shutil\n",
        "torch.__version__"
      ],
      "id": "sayLI9focQSw"
    },
    {
      "cell_type": "code",
      "source": [
        "from google.colab import drive\n",
        "drive.mount('/content/drive')"
      ],
      "metadata": {
        "colab": {
          "base_uri": "https://localhost:8080/"
        },
        "id": "TipWR4BJYbzV",
        "outputId": "cf445217-b482-46b1-e818-7261e69cd6d4"
      },
      "id": "TipWR4BJYbzV",
      "execution_count": 3,
      "outputs": [
        {
          "output_type": "stream",
          "name": "stdout",
          "text": [
            "Drive already mounted at /content/drive; to attempt to forcibly remount, call drive.mount(\"/content/drive\", force_remount=True).\n"
          ]
        }
      ]
    },
    {
      "cell_type": "code",
      "source": [
        "device = torch.device('cuda') if torch.cuda.is_available() else torch.device('cpu')\n",
        "device"
      ],
      "metadata": {
        "colab": {
          "base_uri": "https://localhost:8080/"
        },
        "id": "Eq0SWTfDSmi4",
        "outputId": "499a9391-2cda-4a23-e6ad-7c9e2eb2e7ba"
      },
      "id": "Eq0SWTfDSmi4",
      "execution_count": 4,
      "outputs": [
        {
          "output_type": "execute_result",
          "data": {
            "text/plain": [
              "device(type='cuda')"
            ]
          },
          "metadata": {},
          "execution_count": 4
        }
      ]
    },
    {
      "cell_type": "code",
      "execution_count": 5,
      "metadata": {
        "id": "D62U0vT7cQS2"
      },
      "outputs": [],
      "source": [
        "df_train = pd.read_csv('/content/drive/MyDrive/Colab Notebooks/proj/Data/pages/page_train.csv')\n",
        "df_test= pd.read_csv('/content/drive/MyDrive/Colab Notebooks/proj/Data/pages/page_test.csv')"
      ],
      "id": "D62U0vT7cQS2"
    },
    {
      "cell_type": "code",
      "source": [
        "targetList= ['vector spaces',\n",
        " 'pos_def_matrices',\n",
        " 'eigenvec_val',\n",
        " 'determinants',\n",
        " 'orthogonality',\n",
        " 'linear_prog',\n",
        " 'gauss elim',\n",
        " 'computations']"
      ],
      "metadata": {
        "id": "xWT9JXPyn6Rk"
      },
      "id": "xWT9JXPyn6Rk",
      "execution_count": 6,
      "outputs": []
    },
    {
      "cell_type": "code",
      "execution_count": 7,
      "metadata": {
        "colab": {
          "base_uri": "https://localhost:8080/",
          "height": 372
        },
        "id": "qQrfEVZVcQS2",
        "outputId": "fd84216f-7267-485d-d0ca-b5ac4a0d54a1"
      },
      "outputs": [
        {
          "output_type": "stream",
          "name": "stdout",
          "text": [
            "(90, 10)\n"
          ]
        },
        {
          "output_type": "execute_result",
          "data": {
            "text/html": [
              "\n",
              "  <div id=\"df-69ed71ed-2fcf-441e-bf1a-76350e62bd79\">\n",
              "    <div class=\"colab-df-container\">\n",
              "      <div>\n",
              "<style scoped>\n",
              "    .dataframe tbody tr th:only-of-type {\n",
              "        vertical-align: middle;\n",
              "    }\n",
              "\n",
              "    .dataframe tbody tr th {\n",
              "        vertical-align: top;\n",
              "    }\n",
              "\n",
              "    .dataframe thead th {\n",
              "        text-align: right;\n",
              "    }\n",
              "</style>\n",
              "<table border=\"1\" class=\"dataframe\">\n",
              "  <thead>\n",
              "    <tr style=\"text-align: right;\">\n",
              "      <th></th>\n",
              "      <th>text</th>\n",
              "      <th>label</th>\n",
              "      <th>computations</th>\n",
              "      <th>determinants</th>\n",
              "      <th>eigenvec_val</th>\n",
              "      <th>gauss elim</th>\n",
              "      <th>linear_prog</th>\n",
              "      <th>orthogonality</th>\n",
              "      <th>pos_def_matrices</th>\n",
              "      <th>vector spaces</th>\n",
              "    </tr>\n",
              "  </thead>\n",
              "  <tbody>\n",
              "    <tr>\n",
              "      <th>0</th>\n",
              "      <td>Chapter 2 Vector Spacesand only a few hundred ...</td>\n",
              "      <td>vector spaces</td>\n",
              "      <td>0</td>\n",
              "      <td>0</td>\n",
              "      <td>0</td>\n",
              "      <td>0</td>\n",
              "      <td>0</td>\n",
              "      <td>0</td>\n",
              "      <td>0</td>\n",
              "      <td>1</td>\n",
              "    </tr>\n",
              "    <tr>\n",
              "      <th>1</th>\n",
              "      <td>Chapter 5 Eigenvalues and EigenvectorsProblems...</td>\n",
              "      <td>eigenvec_val</td>\n",
              "      <td>0</td>\n",
              "      <td>0</td>\n",
              "      <td>1</td>\n",
              "      <td>0</td>\n",
              "      <td>0</td>\n",
              "      <td>0</td>\n",
              "      <td>0</td>\n",
              "      <td>0</td>\n",
              "    </tr>\n",
              "    <tr>\n",
              "      <th>2</th>\n",
              "      <td>of the columns of Q = I:That is not the only o...</td>\n",
              "      <td>orthogonality</td>\n",
              "      <td>0</td>\n",
              "      <td>0</td>\n",
              "      <td>0</td>\n",
              "      <td>0</td>\n",
              "      <td>0</td>\n",
              "      <td>1</td>\n",
              "      <td>0</td>\n",
              "      <td>0</td>\n",
              "    </tr>\n",
              "    <tr>\n",
              "      <th>3</th>\n",
              "      <td>Chapter 2 Vector SpacesYou must notice that th...</td>\n",
              "      <td>vector spaces</td>\n",
              "      <td>0</td>\n",
              "      <td>0</td>\n",
              "      <td>0</td>\n",
              "      <td>0</td>\n",
              "      <td>0</td>\n",
              "      <td>0</td>\n",
              "      <td>0</td>\n",
              "      <td>1</td>\n",
              "    </tr>\n",
              "    <tr>\n",
              "      <th>4</th>\n",
              "      <td>5.2 Diagonalization of a MatrixIf A is inverti...</td>\n",
              "      <td>eigenvec_val</td>\n",
              "      <td>0</td>\n",
              "      <td>0</td>\n",
              "      <td>1</td>\n",
              "      <td>0</td>\n",
              "      <td>0</td>\n",
              "      <td>0</td>\n",
              "      <td>0</td>\n",
              "      <td>0</td>\n",
              "    </tr>\n",
              "  </tbody>\n",
              "</table>\n",
              "</div>\n",
              "      <button class=\"colab-df-convert\" onclick=\"convertToInteractive('df-69ed71ed-2fcf-441e-bf1a-76350e62bd79')\"\n",
              "              title=\"Convert this dataframe to an interactive table.\"\n",
              "              style=\"display:none;\">\n",
              "        \n",
              "  <svg xmlns=\"http://www.w3.org/2000/svg\" height=\"24px\"viewBox=\"0 0 24 24\"\n",
              "       width=\"24px\">\n",
              "    <path d=\"M0 0h24v24H0V0z\" fill=\"none\"/>\n",
              "    <path d=\"M18.56 5.44l.94 2.06.94-2.06 2.06-.94-2.06-.94-.94-2.06-.94 2.06-2.06.94zm-11 1L8.5 8.5l.94-2.06 2.06-.94-2.06-.94L8.5 2.5l-.94 2.06-2.06.94zm10 10l.94 2.06.94-2.06 2.06-.94-2.06-.94-.94-2.06-.94 2.06-2.06.94z\"/><path d=\"M17.41 7.96l-1.37-1.37c-.4-.4-.92-.59-1.43-.59-.52 0-1.04.2-1.43.59L10.3 9.45l-7.72 7.72c-.78.78-.78 2.05 0 2.83L4 21.41c.39.39.9.59 1.41.59.51 0 1.02-.2 1.41-.59l7.78-7.78 2.81-2.81c.8-.78.8-2.07 0-2.86zM5.41 20L4 18.59l7.72-7.72 1.47 1.35L5.41 20z\"/>\n",
              "  </svg>\n",
              "      </button>\n",
              "      \n",
              "  <style>\n",
              "    .colab-df-container {\n",
              "      display:flex;\n",
              "      flex-wrap:wrap;\n",
              "      gap: 12px;\n",
              "    }\n",
              "\n",
              "    .colab-df-convert {\n",
              "      background-color: #E8F0FE;\n",
              "      border: none;\n",
              "      border-radius: 50%;\n",
              "      cursor: pointer;\n",
              "      display: none;\n",
              "      fill: #1967D2;\n",
              "      height: 32px;\n",
              "      padding: 0 0 0 0;\n",
              "      width: 32px;\n",
              "    }\n",
              "\n",
              "    .colab-df-convert:hover {\n",
              "      background-color: #E2EBFA;\n",
              "      box-shadow: 0px 1px 2px rgba(60, 64, 67, 0.3), 0px 1px 3px 1px rgba(60, 64, 67, 0.15);\n",
              "      fill: #174EA6;\n",
              "    }\n",
              "\n",
              "    [theme=dark] .colab-df-convert {\n",
              "      background-color: #3B4455;\n",
              "      fill: #D2E3FC;\n",
              "    }\n",
              "\n",
              "    [theme=dark] .colab-df-convert:hover {\n",
              "      background-color: #434B5C;\n",
              "      box-shadow: 0px 1px 3px 1px rgba(0, 0, 0, 0.15);\n",
              "      filter: drop-shadow(0px 1px 2px rgba(0, 0, 0, 0.3));\n",
              "      fill: #FFFFFF;\n",
              "    }\n",
              "  </style>\n",
              "\n",
              "      <script>\n",
              "        const buttonEl =\n",
              "          document.querySelector('#df-69ed71ed-2fcf-441e-bf1a-76350e62bd79 button.colab-df-convert');\n",
              "        buttonEl.style.display =\n",
              "          google.colab.kernel.accessAllowed ? 'block' : 'none';\n",
              "\n",
              "        async function convertToInteractive(key) {\n",
              "          const element = document.querySelector('#df-69ed71ed-2fcf-441e-bf1a-76350e62bd79');\n",
              "          const dataTable =\n",
              "            await google.colab.kernel.invokeFunction('convertToInteractive',\n",
              "                                                     [key], {});\n",
              "          if (!dataTable) return;\n",
              "\n",
              "          const docLinkHtml = 'Like what you see? Visit the ' +\n",
              "            '<a target=\"_blank\" href=https://colab.research.google.com/notebooks/data_table.ipynb>data table notebook</a>'\n",
              "            + ' to learn more about interactive tables.';\n",
              "          element.innerHTML = '';\n",
              "          dataTable['output_type'] = 'display_data';\n",
              "          await google.colab.output.renderOutput(dataTable, element);\n",
              "          const docLink = document.createElement('div');\n",
              "          docLink.innerHTML = docLinkHtml;\n",
              "          element.appendChild(docLink);\n",
              "        }\n",
              "      </script>\n",
              "    </div>\n",
              "  </div>\n",
              "  "
            ],
            "text/plain": [
              "                                                text  ... vector spaces\n",
              "0  Chapter 2 Vector Spacesand only a few hundred ...  ...             1\n",
              "1  Chapter 5 Eigenvalues and EigenvectorsProblems...  ...             0\n",
              "2  of the columns of Q = I:That is not the only o...  ...             0\n",
              "3  Chapter 2 Vector SpacesYou must notice that th...  ...             1\n",
              "4  5.2 Diagonalization of a MatrixIf A is inverti...  ...             0\n",
              "\n",
              "[5 rows x 10 columns]"
            ]
          },
          "metadata": {},
          "execution_count": 7
        }
      ],
      "source": [
        "df_test = pd.concat([df_test,pd.get_dummies(df_test['label'])], axis=1)\n",
        "df_test.drop(columns='label')\n",
        "print(df_test.shape)\n",
        "df_test.head()"
      ],
      "id": "qQrfEVZVcQS2"
    },
    {
      "cell_type": "code",
      "execution_count": 8,
      "metadata": {
        "colab": {
          "base_uri": "https://localhost:8080/",
          "height": 268
        },
        "id": "-68hl_GlcQS3",
        "outputId": "f14d5abd-0b9a-46ef-abf9-a9b74f2d73d2"
      },
      "outputs": [
        {
          "output_type": "stream",
          "name": "stdout",
          "text": [
            "(358, 9)\n"
          ]
        },
        {
          "output_type": "execute_result",
          "data": {
            "text/html": [
              "\n",
              "  <div id=\"df-161ce8e4-f2c4-4092-a345-f2cf74760266\">\n",
              "    <div class=\"colab-df-container\">\n",
              "      <div>\n",
              "<style scoped>\n",
              "    .dataframe tbody tr th:only-of-type {\n",
              "        vertical-align: middle;\n",
              "    }\n",
              "\n",
              "    .dataframe tbody tr th {\n",
              "        vertical-align: top;\n",
              "    }\n",
              "\n",
              "    .dataframe thead th {\n",
              "        text-align: right;\n",
              "    }\n",
              "</style>\n",
              "<table border=\"1\" class=\"dataframe\">\n",
              "  <thead>\n",
              "    <tr style=\"text-align: right;\">\n",
              "      <th></th>\n",
              "      <th>text</th>\n",
              "      <th>computations</th>\n",
              "      <th>determinants</th>\n",
              "      <th>eigenvec_val</th>\n",
              "      <th>gauss elim</th>\n",
              "      <th>linear_prog</th>\n",
              "      <th>orthogonality</th>\n",
              "      <th>pos_def_matrices</th>\n",
              "      <th>vector spaces</th>\n",
              "    </tr>\n",
              "  </thead>\n",
              "  <tbody>\n",
              "    <tr>\n",
              "      <th>0</th>\n",
              "      <td>1.4 Matrix Notation and Matrix Multiplication1...</td>\n",
              "      <td>0</td>\n",
              "      <td>0</td>\n",
              "      <td>0</td>\n",
              "      <td>1</td>\n",
              "      <td>0</td>\n",
              "      <td>0</td>\n",
              "      <td>0</td>\n",
              "      <td>0</td>\n",
              "    </tr>\n",
              "    <tr>\n",
              "      <th>1</th>\n",
              "      <td>5.4 Differential Equations and eAt−ω2 = λ. Eve...</td>\n",
              "      <td>0</td>\n",
              "      <td>0</td>\n",
              "      <td>1</td>\n",
              "      <td>0</td>\n",
              "      <td>0</td>\n",
              "      <td>0</td>\n",
              "      <td>0</td>\n",
              "      <td>0</td>\n",
              "    </tr>\n",
              "    <tr>\n",
              "      <th>2</th>\n",
              "      <td>Chapter 5 Eigenvalues and EigenvectorsAt the l...</td>\n",
              "      <td>0</td>\n",
              "      <td>0</td>\n",
              "      <td>1</td>\n",
              "      <td>0</td>\n",
              "      <td>0</td>\n",
              "      <td>0</td>\n",
              "      <td>0</td>\n",
              "      <td>0</td>\n",
              "    </tr>\n",
              "    <tr>\n",
              "      <th>3</th>\n",
              "      <td>5.2 Diagonalization of a MatrixIf eigenvectors...</td>\n",
              "      <td>0</td>\n",
              "      <td>0</td>\n",
              "      <td>1</td>\n",
              "      <td>0</td>\n",
              "      <td>0</td>\n",
              "      <td>0</td>\n",
              "      <td>0</td>\n",
              "      <td>0</td>\n",
              "    </tr>\n",
              "    <tr>\n",
              "      <th>4</th>\n",
              "      <td>Which previous problem justiﬁes the middle ste...</td>\n",
              "      <td>0</td>\n",
              "      <td>0</td>\n",
              "      <td>0</td>\n",
              "      <td>0</td>\n",
              "      <td>0</td>\n",
              "      <td>1</td>\n",
              "      <td>0</td>\n",
              "      <td>0</td>\n",
              "    </tr>\n",
              "  </tbody>\n",
              "</table>\n",
              "</div>\n",
              "      <button class=\"colab-df-convert\" onclick=\"convertToInteractive('df-161ce8e4-f2c4-4092-a345-f2cf74760266')\"\n",
              "              title=\"Convert this dataframe to an interactive table.\"\n",
              "              style=\"display:none;\">\n",
              "        \n",
              "  <svg xmlns=\"http://www.w3.org/2000/svg\" height=\"24px\"viewBox=\"0 0 24 24\"\n",
              "       width=\"24px\">\n",
              "    <path d=\"M0 0h24v24H0V0z\" fill=\"none\"/>\n",
              "    <path d=\"M18.56 5.44l.94 2.06.94-2.06 2.06-.94-2.06-.94-.94-2.06-.94 2.06-2.06.94zm-11 1L8.5 8.5l.94-2.06 2.06-.94-2.06-.94L8.5 2.5l-.94 2.06-2.06.94zm10 10l.94 2.06.94-2.06 2.06-.94-2.06-.94-.94-2.06-.94 2.06-2.06.94z\"/><path d=\"M17.41 7.96l-1.37-1.37c-.4-.4-.92-.59-1.43-.59-.52 0-1.04.2-1.43.59L10.3 9.45l-7.72 7.72c-.78.78-.78 2.05 0 2.83L4 21.41c.39.39.9.59 1.41.59.51 0 1.02-.2 1.41-.59l7.78-7.78 2.81-2.81c.8-.78.8-2.07 0-2.86zM5.41 20L4 18.59l7.72-7.72 1.47 1.35L5.41 20z\"/>\n",
              "  </svg>\n",
              "      </button>\n",
              "      \n",
              "  <style>\n",
              "    .colab-df-container {\n",
              "      display:flex;\n",
              "      flex-wrap:wrap;\n",
              "      gap: 12px;\n",
              "    }\n",
              "\n",
              "    .colab-df-convert {\n",
              "      background-color: #E8F0FE;\n",
              "      border: none;\n",
              "      border-radius: 50%;\n",
              "      cursor: pointer;\n",
              "      display: none;\n",
              "      fill: #1967D2;\n",
              "      height: 32px;\n",
              "      padding: 0 0 0 0;\n",
              "      width: 32px;\n",
              "    }\n",
              "\n",
              "    .colab-df-convert:hover {\n",
              "      background-color: #E2EBFA;\n",
              "      box-shadow: 0px 1px 2px rgba(60, 64, 67, 0.3), 0px 1px 3px 1px rgba(60, 64, 67, 0.15);\n",
              "      fill: #174EA6;\n",
              "    }\n",
              "\n",
              "    [theme=dark] .colab-df-convert {\n",
              "      background-color: #3B4455;\n",
              "      fill: #D2E3FC;\n",
              "    }\n",
              "\n",
              "    [theme=dark] .colab-df-convert:hover {\n",
              "      background-color: #434B5C;\n",
              "      box-shadow: 0px 1px 3px 1px rgba(0, 0, 0, 0.15);\n",
              "      filter: drop-shadow(0px 1px 2px rgba(0, 0, 0, 0.3));\n",
              "      fill: #FFFFFF;\n",
              "    }\n",
              "  </style>\n",
              "\n",
              "      <script>\n",
              "        const buttonEl =\n",
              "          document.querySelector('#df-161ce8e4-f2c4-4092-a345-f2cf74760266 button.colab-df-convert');\n",
              "        buttonEl.style.display =\n",
              "          google.colab.kernel.accessAllowed ? 'block' : 'none';\n",
              "\n",
              "        async function convertToInteractive(key) {\n",
              "          const element = document.querySelector('#df-161ce8e4-f2c4-4092-a345-f2cf74760266');\n",
              "          const dataTable =\n",
              "            await google.colab.kernel.invokeFunction('convertToInteractive',\n",
              "                                                     [key], {});\n",
              "          if (!dataTable) return;\n",
              "\n",
              "          const docLinkHtml = 'Like what you see? Visit the ' +\n",
              "            '<a target=\"_blank\" href=https://colab.research.google.com/notebooks/data_table.ipynb>data table notebook</a>'\n",
              "            + ' to learn more about interactive tables.';\n",
              "          element.innerHTML = '';\n",
              "          dataTable['output_type'] = 'display_data';\n",
              "          await google.colab.output.renderOutput(dataTable, element);\n",
              "          const docLink = document.createElement('div');\n",
              "          docLink.innerHTML = docLinkHtml;\n",
              "          element.appendChild(docLink);\n",
              "        }\n",
              "      </script>\n",
              "    </div>\n",
              "  </div>\n",
              "  "
            ],
            "text/plain": [
              "                                                text  ...  vector spaces\n",
              "0  1.4 Matrix Notation and Matrix Multiplication1...  ...              0\n",
              "1  5.4 Differential Equations and eAt−ω2 = λ. Eve...  ...              0\n",
              "2  Chapter 5 Eigenvalues and EigenvectorsAt the l...  ...              0\n",
              "3  5.2 Diagonalization of a MatrixIf eigenvectors...  ...              0\n",
              "4  Which previous problem justiﬁes the middle ste...  ...              0\n",
              "\n",
              "[5 rows x 9 columns]"
            ]
          },
          "metadata": {},
          "execution_count": 8
        }
      ],
      "source": [
        "df_train = pd.concat([df_train,pd.get_dummies(df_train['label'])], axis=1)\n",
        "df_train = df_train.drop(columns='label')\n",
        "print(df_train.shape)\n",
        "df_train.head()"
      ],
      "id": "-68hl_GlcQS3"
    },
    {
      "cell_type": "code",
      "source": [
        "pip install transformers"
      ],
      "metadata": {
        "id": "Nw8utav_spCA"
      },
      "id": "Nw8utav_spCA",
      "execution_count": null,
      "outputs": []
    },
    {
      "cell_type": "code",
      "execution_count": 10,
      "metadata": {
        "id": "a4Mc7KRecQS5"
      },
      "outputs": [],
      "source": [
        "from transformers import BertTokenizer, BertModel"
      ],
      "id": "a4Mc7KRecQS5"
    },
    {
      "cell_type": "code",
      "execution_count": 11,
      "metadata": {
        "id": "uGtylXumcQS6"
      },
      "outputs": [],
      "source": [
        "tokenizer= BertTokenizer.from_pretrained(\"bert-base-uncased\")"
      ],
      "id": "uGtylXumcQS6"
    },
    {
      "cell_type": "code",
      "execution_count": 12,
      "metadata": {
        "colab": {
          "base_uri": "https://localhost:8080/"
        },
        "id": "JZZN97-2cQS6",
        "outputId": "b9a62cbe-b399-46c8-b2e9-59c58ece7d35"
      },
      "outputs": [
        {
          "output_type": "execute_result",
          "data": {
            "text/plain": [
              "(                                                text  ...  vector spaces\n",
              " 0  5.3 Difference Equations and Powers AkExample ...  ...              0\n",
              " 1  6.3 Singular Value DecompositionOf course Σ co...  ...              0\n",
              " 2  Chapter 6 Positive Deﬁnite Matricesinstead of ...  ...              0\n",
              " 3  Chapter 5 Eigenvalues and EigenvectorsThe only...  ...              0\n",
              " 4  Chapter 2 Vector SpacesMost sets of four vecto...  ...              1\n",
              " \n",
              " [5 rows x 9 columns],\n",
              "                                                 text  ...  vector spaces\n",
              " 0  1.5 Triangular Factors and Row Exchanges31. Tr...  ...              0\n",
              " 1  2.2 Solving Ax = 0 and Ax = bThere must be inﬁ...  ...              1\n",
              " 2  Chapter 1 Matrices and Gaussian Elimination25....  ...              0\n",
              " 3  Chapter 7 Computations with Matricesx0 = 0, r0...  ...              0\n",
              " 4  3.1 Orthogonal Vectors and Subspacesequations ...  ...              0\n",
              " \n",
              " [5 rows x 9 columns])"
            ]
          },
          "metadata": {},
          "execution_count": 12
        }
      ],
      "source": [
        "df_train1=df_train.sample(frac=0.5, random_state= 200).reset_index(drop=True)\n",
        "page_df= df_train.drop(df_train1.index).reset_index(drop=True)\n",
        "df_train= df_train1\n",
        "page_df.head(), df_train.head()"
      ],
      "id": "JZZN97-2cQS6"
    },
    {
      "cell_type": "code",
      "source": [
        "df_train1.shape, df_train.shape, page_df.shape "
      ],
      "metadata": {
        "colab": {
          "base_uri": "https://localhost:8080/"
        },
        "id": "9Tb-pjG7nnle",
        "outputId": "cb16d2dd-c756-4344-fafb-fd712d43a49b"
      },
      "id": "9Tb-pjG7nnle",
      "execution_count": 13,
      "outputs": [
        {
          "output_type": "execute_result",
          "data": {
            "text/plain": [
              "((179, 9), (179, 9), (179, 9))"
            ]
          },
          "metadata": {},
          "execution_count": 13
        }
      ]
    },
    {
      "cell_type": "code",
      "execution_count": 14,
      "metadata": {
        "id": "voXT45gOcQS8"
      },
      "outputs": [],
      "source": [
        "MAX_LEN= 512\n",
        "BATCH_SIZE= 14\n",
        "EPOCHS= 10\n",
        "LR= 1e-4"
      ],
      "id": "voXT45gOcQS8"
    },
    {
      "cell_type": "code",
      "execution_count": 15,
      "metadata": {
        "id": "cQgMHqzfcQS9"
      },
      "outputs": [],
      "source": [
        "class myDataset(torch.utils.data.Dataset):\n",
        "    def __init__(self,df, tokenizer, max_len):\n",
        "        self.df = df\n",
        "        self.tokenizer= tokenizer\n",
        "        self.max_len = max_len\n",
        "        self.text= df['text']\n",
        "        self.targets = self.df[targetList].values\n",
        "    def __len__(self):\n",
        "        return len(self.text)\n",
        "    def __getitem__(self,index):\n",
        "        \n",
        "        text= str(self.text[index])\n",
        "        text=  \" \".join(text.split())\n",
        "        \n",
        "        inputs= self.tokenizer.encode_plus(\n",
        "            text,\n",
        "            None,\n",
        "            add_special_tokens=True,\n",
        "            max_length=self.max_len,\n",
        "            padding='max_length',\n",
        "            return_token_type_ids= True,\n",
        "            truncation=True,\n",
        "            return_attention_mask=True,\n",
        "            return_tensors= 'pt'\n",
        "        )\n",
        "        \n",
        "        return {\n",
        "            'input_ids':inputs['input_ids'].flatten(),\n",
        "            'attention_mask':inputs['attention_mask'].flatten(),\n",
        "            'token_type_ids':inputs['token_type_ids'].flatten(),\n",
        "            'targets':torch.FloatTensor(self.targets[index])\n",
        "        }\n"
      ],
      "id": "cQgMHqzfcQS9"
    },
    {
      "cell_type": "code",
      "execution_count": 16,
      "metadata": {
        "colab": {
          "base_uri": "https://localhost:8080/"
        },
        "id": "udcGroaAcQS9",
        "outputId": "b18097a7-3887-4502-800e-ea02d0a7a9c9"
      },
      "outputs": [
        {
          "output_type": "execute_result",
          "data": {
            "text/plain": [
              "((143, 9), (36, 9))"
            ]
          },
          "metadata": {},
          "execution_count": 16
        }
      ],
      "source": [
        "train_df= df_train.sample(frac=0.8,random_state=200).reset_index(drop=True)\n",
        "val_df= df_train.drop(train_df.index).reset_index(drop=True)\n",
        "train_df.shape, val_df.shape"
      ],
      "id": "udcGroaAcQS9"
    },
    {
      "cell_type": "code",
      "execution_count": 17,
      "metadata": {
        "id": "o7QlLJbQcQS-"
      },
      "outputs": [],
      "source": [
        "train_dataset=myDataset(train_df,tokenizer, MAX_LEN)\n",
        "val_dataset = myDataset(val_df,tokenizer,MAX_LEN)"
      ],
      "id": "o7QlLJbQcQS-"
    },
    {
      "cell_type": "code",
      "execution_count": 18,
      "metadata": {
        "id": "8QYzChFzcQS-"
      },
      "outputs": [],
      "source": [
        "trainLoader = torch.utils.data.DataLoader(\n",
        "    train_dataset,\n",
        "    shuffle=True,\n",
        "    batch_size = BATCH_SIZE,\n",
        "    num_workers= 0 \n",
        "    )\n",
        "valLoader = torch.utils.data.DataLoader(\n",
        "    val_dataset,\n",
        "    shuffle=False,\n",
        "    batch_size = BATCH_SIZE,\n",
        "    num_workers= 0 \n",
        "    )"
      ],
      "id": "8QYzChFzcQS-"
    },
    {
      "cell_type": "code",
      "execution_count": 19,
      "metadata": {
        "id": "C6VDsDjFcQS_"
      },
      "outputs": [],
      "source": [
        "def load_ckp(ckpt_path,model,optimizer):\n",
        "    checkpoint= torch.load(ckpt_path)\n",
        "    model.load_state_dict(checkpoint['state_dict'])\n",
        "    optimizer.load_state_dict(checkpoint['optimizer'])\n",
        "    valid_loss_min= checkpoint['valid_loss_min']\n",
        "    return model, optimizer, checkpoint['epoch'],valid_loss_min.item()\n",
        "def save_ckp(state, is_best, ckpt_path,best_model_path):\n",
        "    torch.save(state, ckpt_path)\n",
        "    if is_best:\n",
        "        best_path = best_model_path\n",
        "        shutil.copyfile(ckpt_path,best_path)"
      ],
      "id": "C6VDsDjFcQS_"
    },
    {
      "cell_type": "code",
      "execution_count": null,
      "metadata": {
        "id": "BXxTqp-xcQS_"
      },
      "outputs": [],
      "source": [
        "class BERTModel(nn.Module):\n",
        "    def __init__(self):\n",
        "        super(BERTModel,self).__init__()\n",
        "        self.bert= BertModel.from_pretrained(\"bert-base-uncased\", return_dict= True)\n",
        "        self.dropout = nn.Dropout(0.3) \n",
        "        self.linear =nn.Linear(768,8)\n",
        "    def forward(self, input_ids,attention_mask,token_type_ids):\n",
        "        output = self.bert(input_ids,attention_mask,token_type_ids)\n",
        "        outputDropout= self.dropout(output.pooler_output)\n",
        "        output= self.linear(outputDropout)\n",
        "        return output\n",
        "model = BERTModel()\n",
        "model.to(device)"
      ],
      "id": "BXxTqp-xcQS_"
    },
    {
      "cell_type": "code",
      "execution_count": 21,
      "metadata": {
        "id": "k088yFo8cQTA"
      },
      "outputs": [],
      "source": [
        "def loss_fn(outputs, targets):\n",
        "    return nn.BCEWithLogitsLoss()(outputs,targets)\n",
        "def accuracy(output,targets):\n",
        "  final_output = torch.sigmoid(output).cpu().detach().numpy()\n",
        "  return np.sum( np.argmax(targets.cpu().numpy(),axis=1) == np.argmax(final_output, axis=1) ) / BATCH_SIZE *100\n",
        "\n",
        "optimizer= torch.optim.Adam(params=model.parameters(),lr=LR)"
      ],
      "id": "k088yFo8cQTA"
    },
    {
      "cell_type": "code",
      "source": [
        "train_lossList=[]\n",
        "train_accList=[]\n",
        "val_lossList=[]\n",
        "val_accList=[]"
      ],
      "metadata": {
        "id": "1i13pPpRXDGs"
      },
      "id": "1i13pPpRXDGs",
      "execution_count": 22,
      "outputs": []
    },
    {
      "cell_type": "code",
      "source": [
        "def train_model(epochs, trainLoader,valLoader,model,optimizer,ckpt_path,best_model_path):\n",
        "    val_loss_min= np.Inf\n",
        "    for epoch in range(1, epochs+1):\n",
        "        print(\"epoch[{}]\".format(epoch))\n",
        "        train_loss= 0\n",
        "        val_loss= 0\n",
        "        for index, batch in enumerate(trainLoader):\n",
        "            input_ids= batch['input_ids'].to(device, dtype= torch.long)\n",
        "            attention_mask = batch['attention_mask'].to(device, dtype= torch.long)\n",
        "            token_type_ids= batch['token_type_ids'].to(device, dtype= torch.long)\n",
        "            targets = batch['targets'].to(device, dtype= torch.float)\n",
        "\n",
        "            output= model(input_ids, attention_mask, token_type_ids)\n",
        "            \n",
        "            optimizer.zero_grad()\n",
        "            loss= loss_fn(output,targets)\n",
        "            optimizer.zero_grad()\n",
        "            loss.backward()\n",
        "            optimizer.step()\n",
        "            train_acc= accuracy(output,targets)\n",
        "            train_loss=train_loss + ((1/(index+1))*(loss.item()-train_loss))\n",
        "            print(\"TRAIN BATCH {}/{}====>train loss[{:.8f}] | train accuracy[{:.8f}%]\".format(index+1,len(trainLoader) , train_loss, train_acc ))\n",
        "            #train_lossList+=[train_loss]\n",
        "            #train_accList+=[train_acc]\n",
        "        model.eval() \n",
        "        with torch.no_grad():\n",
        "            for index, batch in enumerate(valLoader):\n",
        "                print(\"validation batch index:{}/{}\".format(index,len(valLoader)))\n",
        "                input_ids= batch['input_ids'].to(device, dtype= torch.long)\n",
        "                attention_mask = batch['attention_mask'].to(device, dtype= torch.long)\n",
        "                token_type_ids= batch['token_type_ids'].to(device, dtype= torch.long)\n",
        "                targets = batch['targets'].to(device, dtype= torch.float)\n",
        "                \n",
        "                output =model(input_ids,attention_mask,token_type_ids)\n",
        "                val_acc= accuracy(output,targets)\n",
        "                loss= loss_fn(output,targets)\n",
        "                val_loss= (val_loss + (1/(index+1))*(loss.item()-val_loss))\n",
        "                print(\"VALIDATION BATCH {}/{}====>val loss[{:.8f}] | val accuracy[{:.8f}]\".format(index+1,len(valLoader) , val_loss, val_acc ))\n",
        "                #val_lossList+=[val_loss]\n",
        "                #val_accList+=[val_acc]\n",
        "        checkpoint ={\n",
        "            'epoch': epoch+1,\n",
        "            'valid_loss_min':val_loss,\n",
        "            'state_dict':model.state_dict(),\n",
        "            'optimizer':optimizer.state_dict()\n",
        "        }\n",
        "        save_ckp(checkpoint,False,ckpt_path,best_model_path)\n",
        "\n",
        "        if val_loss < val_loss_min:\n",
        "          print(\"previous Val_loss_min={:.8f}; new val_loss_min={:.8f}\".format(val_loss_min, val_loss))\n",
        "          save_ckp(checkpoint, True, ckpt_path, best_model_path)\n",
        "          print(\"SAVED\")\n",
        "          val_loss_min = val_loss\n",
        "        print(\"epoch {} end\".format(epoch))\n",
        "    return model"
      ],
      "metadata": {
        "id": "ASXE6XlPAraR"
      },
      "id": "ASXE6XlPAraR",
      "execution_count": 23,
      "outputs": []
    },
    {
      "cell_type": "code",
      "source": [
        "ckpt_path = \"/content/drive/MyDrive/Colab Notebooks/proj/Data/pages/curr_path\"\n",
        "best_model_path = \"/content/drive/MyDrive/Colab Notebooks/proj/Data/pages/best.pt\""
      ],
      "metadata": {
        "id": "3Be1XyMWHVOz"
      },
      "id": "3Be1XyMWHVOz",
      "execution_count": 24,
      "outputs": []
    },
    {
      "cell_type": "code",
      "execution_count": 25,
      "metadata": {
        "colab": {
          "base_uri": "https://localhost:8080/"
        },
        "id": "UE7hvW4AcQTB",
        "outputId": "efbd0424-e759-483c-8282-08e1a9f109a9"
      },
      "outputs": [
        {
          "output_type": "stream",
          "name": "stdout",
          "text": [
            "epoch[1]\n",
            "TRAIN BATCH 1/11====>train loss[0.66226238] | train accuracy[0.00000000%]\n",
            "TRAIN BATCH 2/11====>train loss[0.65520260] | train accuracy[21.42857143%]\n",
            "TRAIN BATCH 3/11====>train loss[0.63531009] | train accuracy[7.14285714%]\n",
            "TRAIN BATCH 4/11====>train loss[0.61307171] | train accuracy[7.14285714%]\n",
            "TRAIN BATCH 5/11====>train loss[0.59028550] | train accuracy[0.00000000%]\n",
            "TRAIN BATCH 6/11====>train loss[0.56704230] | train accuracy[21.42857143%]\n",
            "TRAIN BATCH 7/11====>train loss[0.54775502] | train accuracy[0.00000000%]\n",
            "TRAIN BATCH 8/11====>train loss[0.53160523] | train accuracy[0.00000000%]\n",
            "TRAIN BATCH 9/11====>train loss[0.51767208] | train accuracy[7.14285714%]\n",
            "TRAIN BATCH 10/11====>train loss[0.50426894] | train accuracy[28.57142857%]\n",
            "TRAIN BATCH 11/11====>train loss[0.49428939] | train accuracy[7.14285714%]\n",
            "validation batch index:0/3\n",
            "VALIDATION BATCH 1/3====>val loss[0.36911926] | val accuracy[42.85714286]\n",
            "validation batch index:1/3\n",
            "VALIDATION BATCH 2/3====>val loss[0.36848947] | val accuracy[35.71428571]\n",
            "validation batch index:2/3\n",
            "VALIDATION BATCH 3/3====>val loss[0.37145909] | val accuracy[0.00000000]\n",
            "previous Val_loss_min=inf; new val_loss_min=0.37145909\n",
            "SAVED\n",
            "epoch 1 end\n",
            "epoch[2]\n",
            "TRAIN BATCH 1/11====>train loss[0.38224468] | train accuracy[14.28571429%]\n",
            "TRAIN BATCH 2/11====>train loss[0.38371542] | train accuracy[21.42857143%]\n",
            "TRAIN BATCH 3/11====>train loss[0.37528246] | train accuracy[28.57142857%]\n",
            "TRAIN BATCH 4/11====>train loss[0.37379698] | train accuracy[21.42857143%]\n",
            "TRAIN BATCH 5/11====>train loss[0.37141482] | train accuracy[14.28571429%]\n",
            "TRAIN BATCH 6/11====>train loss[0.37099396] | train accuracy[35.71428571%]\n",
            "TRAIN BATCH 7/11====>train loss[0.37295401] | train accuracy[7.14285714%]\n",
            "TRAIN BATCH 8/11====>train loss[0.37489191] | train accuracy[7.14285714%]\n",
            "TRAIN BATCH 9/11====>train loss[0.37525640] | train accuracy[21.42857143%]\n",
            "TRAIN BATCH 10/11====>train loss[0.37202127] | train accuracy[21.42857143%]\n",
            "TRAIN BATCH 11/11====>train loss[0.37220625] | train accuracy[7.14285714%]\n",
            "validation batch index:0/3\n",
            "VALIDATION BATCH 1/3====>val loss[0.35815030] | val accuracy[7.14285714]\n",
            "validation batch index:1/3\n",
            "VALIDATION BATCH 2/3====>val loss[0.35886537] | val accuracy[14.28571429]\n",
            "validation batch index:2/3\n",
            "VALIDATION BATCH 3/3====>val loss[0.36224167] | val accuracy[21.42857143]\n",
            "previous Val_loss_min=0.37145909; new val_loss_min=0.36224167\n",
            "SAVED\n",
            "epoch 2 end\n",
            "epoch[3]\n",
            "TRAIN BATCH 1/11====>train loss[0.35609123] | train accuracy[7.14285714%]\n",
            "TRAIN BATCH 2/11====>train loss[0.37178399] | train accuracy[0.00000000%]\n",
            "TRAIN BATCH 3/11====>train loss[0.36342991] | train accuracy[42.85714286%]\n",
            "TRAIN BATCH 4/11====>train loss[0.36565139] | train accuracy[21.42857143%]\n",
            "TRAIN BATCH 5/11====>train loss[0.36695942] | train accuracy[14.28571429%]\n",
            "TRAIN BATCH 6/11====>train loss[0.37055159] | train accuracy[7.14285714%]\n",
            "TRAIN BATCH 7/11====>train loss[0.37005558] | train accuracy[42.85714286%]\n",
            "TRAIN BATCH 8/11====>train loss[0.36727723] | train accuracy[35.71428571%]\n",
            "TRAIN BATCH 9/11====>train loss[0.36855742] | train accuracy[7.14285714%]\n",
            "TRAIN BATCH 10/11====>train loss[0.36816410] | train accuracy[14.28571429%]\n",
            "TRAIN BATCH 11/11====>train loss[0.36982363] | train accuracy[0.00000000%]\n",
            "validation batch index:0/3\n",
            "VALIDATION BATCH 1/3====>val loss[0.35369954] | val accuracy[7.14285714]\n",
            "validation batch index:1/3\n",
            "VALIDATION BATCH 2/3====>val loss[0.35168432] | val accuracy[14.28571429]\n",
            "validation batch index:2/3\n",
            "VALIDATION BATCH 3/3====>val loss[0.35659260] | val accuracy[21.42857143]\n",
            "previous Val_loss_min=0.36224167; new val_loss_min=0.35659260\n",
            "SAVED\n",
            "epoch 3 end\n",
            "epoch[4]\n",
            "TRAIN BATCH 1/11====>train loss[0.36183527] | train accuracy[7.14285714%]\n",
            "TRAIN BATCH 2/11====>train loss[0.37327807] | train accuracy[14.28571429%]\n",
            "TRAIN BATCH 3/11====>train loss[0.36559607] | train accuracy[21.42857143%]\n",
            "TRAIN BATCH 4/11====>train loss[0.35864720] | train accuracy[42.85714286%]\n",
            "TRAIN BATCH 5/11====>train loss[0.36071172] | train accuracy[21.42857143%]\n",
            "TRAIN BATCH 6/11====>train loss[0.36284878] | train accuracy[7.14285714%]\n",
            "TRAIN BATCH 7/11====>train loss[0.35847395] | train accuracy[35.71428571%]\n",
            "TRAIN BATCH 8/11====>train loss[0.35816579] | train accuracy[28.57142857%]\n",
            "TRAIN BATCH 9/11====>train loss[0.35639478] | train accuracy[28.57142857%]\n",
            "TRAIN BATCH 10/11====>train loss[0.35523824] | train accuracy[21.42857143%]\n",
            "TRAIN BATCH 11/11====>train loss[0.35540838] | train accuracy[0.00000000%]\n",
            "validation batch index:0/3\n",
            "VALIDATION BATCH 1/3====>val loss[0.30980977] | val accuracy[50.00000000]\n",
            "validation batch index:1/3\n",
            "VALIDATION BATCH 2/3====>val loss[0.30246086] | val accuracy[64.28571429]\n",
            "validation batch index:2/3\n",
            "VALIDATION BATCH 3/3====>val loss[0.31561099] | val accuracy[21.42857143]\n",
            "previous Val_loss_min=0.35659260; new val_loss_min=0.31561099\n",
            "SAVED\n",
            "epoch 4 end\n",
            "epoch[5]\n",
            "TRAIN BATCH 1/11====>train loss[0.33030236] | train accuracy[35.71428571%]\n",
            "TRAIN BATCH 2/11====>train loss[0.32322547] | train accuracy[42.85714286%]\n",
            "TRAIN BATCH 3/11====>train loss[0.32164741] | train accuracy[64.28571429%]\n",
            "TRAIN BATCH 4/11====>train loss[0.31693362] | train accuracy[64.28571429%]\n",
            "TRAIN BATCH 5/11====>train loss[0.31214804] | train accuracy[85.71428571%]\n",
            "TRAIN BATCH 6/11====>train loss[0.30786523] | train accuracy[64.28571429%]\n",
            "TRAIN BATCH 7/11====>train loss[0.30708782] | train accuracy[57.14285714%]\n",
            "TRAIN BATCH 8/11====>train loss[0.30630795] | train accuracy[50.00000000%]\n",
            "TRAIN BATCH 9/11====>train loss[0.30920903] | train accuracy[28.57142857%]\n",
            "TRAIN BATCH 10/11====>train loss[0.30471899] | train accuracy[71.42857143%]\n",
            "TRAIN BATCH 11/11====>train loss[0.29812646] | train accuracy[14.28571429%]\n",
            "validation batch index:0/3\n",
            "VALIDATION BATCH 1/3====>val loss[0.24702008] | val accuracy[64.28571429]\n",
            "validation batch index:1/3\n",
            "VALIDATION BATCH 2/3====>val loss[0.23208190] | val accuracy[85.71428571]\n",
            "validation batch index:2/3\n",
            "VALIDATION BATCH 3/3====>val loss[0.24515674] | val accuracy[42.85714286]\n",
            "previous Val_loss_min=0.31561099; new val_loss_min=0.24515674\n",
            "SAVED\n",
            "epoch 5 end\n",
            "epoch[6]\n",
            "TRAIN BATCH 1/11====>train loss[0.25019485] | train accuracy[85.71428571%]\n",
            "TRAIN BATCH 2/11====>train loss[0.25245103] | train accuracy[85.71428571%]\n",
            "TRAIN BATCH 3/11====>train loss[0.25109570] | train accuracy[78.57142857%]\n",
            "TRAIN BATCH 4/11====>train loss[0.24602525] | train accuracy[78.57142857%]\n",
            "TRAIN BATCH 5/11====>train loss[0.24342126] | train accuracy[64.28571429%]\n",
            "TRAIN BATCH 6/11====>train loss[0.23988391] | train accuracy[71.42857143%]\n",
            "TRAIN BATCH 7/11====>train loss[0.23605022] | train accuracy[85.71428571%]\n",
            "TRAIN BATCH 8/11====>train loss[0.23630299] | train accuracy[71.42857143%]\n",
            "TRAIN BATCH 9/11====>train loss[0.23354482] | train accuracy[71.42857143%]\n",
            "TRAIN BATCH 10/11====>train loss[0.22982900] | train accuracy[85.71428571%]\n",
            "TRAIN BATCH 11/11====>train loss[0.22662380] | train accuracy[21.42857143%]\n",
            "validation batch index:0/3\n",
            "VALIDATION BATCH 1/3====>val loss[0.17726317] | val accuracy[85.71428571]\n",
            "validation batch index:1/3\n",
            "VALIDATION BATCH 2/3====>val loss[0.16637139] | val accuracy[92.85714286]\n",
            "validation batch index:2/3\n",
            "VALIDATION BATCH 3/3====>val loss[0.18016645] | val accuracy[42.85714286]\n",
            "previous Val_loss_min=0.24515674; new val_loss_min=0.18016645\n",
            "SAVED\n",
            "epoch 6 end\n",
            "epoch[7]\n",
            "TRAIN BATCH 1/11====>train loss[0.19752914] | train accuracy[78.57142857%]\n",
            "TRAIN BATCH 2/11====>train loss[0.18568903] | train accuracy[85.71428571%]\n",
            "TRAIN BATCH 3/11====>train loss[0.20196804] | train accuracy[57.14285714%]\n",
            "TRAIN BATCH 4/11====>train loss[0.19410571] | train accuracy[100.00000000%]\n",
            "TRAIN BATCH 5/11====>train loss[0.18494472] | train accuracy[92.85714286%]\n",
            "TRAIN BATCH 6/11====>train loss[0.18083013] | train accuracy[92.85714286%]\n",
            "TRAIN BATCH 7/11====>train loss[0.17182505] | train accuracy[100.00000000%]\n",
            "TRAIN BATCH 8/11====>train loss[0.16635419] | train accuracy[100.00000000%]\n",
            "TRAIN BATCH 9/11====>train loss[0.16255600] | train accuracy[85.71428571%]\n",
            "TRAIN BATCH 10/11====>train loss[0.16319817] | train accuracy[78.57142857%]\n",
            "TRAIN BATCH 11/11====>train loss[0.16801160] | train accuracy[14.28571429%]\n",
            "validation batch index:0/3\n",
            "VALIDATION BATCH 1/3====>val loss[0.12957120] | val accuracy[92.85714286]\n",
            "validation batch index:1/3\n",
            "VALIDATION BATCH 2/3====>val loss[0.12013426] | val accuracy[92.85714286]\n",
            "validation batch index:2/3\n",
            "VALIDATION BATCH 3/3====>val loss[0.12549346] | val accuracy[57.14285714]\n",
            "previous Val_loss_min=0.18016645; new val_loss_min=0.12549346\n",
            "SAVED\n",
            "epoch 7 end\n",
            "epoch[8]\n",
            "TRAIN BATCH 1/11====>train loss[0.13426645] | train accuracy[92.85714286%]\n",
            "TRAIN BATCH 2/11====>train loss[0.13088792] | train accuracy[100.00000000%]\n",
            "TRAIN BATCH 3/11====>train loss[0.13932337] | train accuracy[85.71428571%]\n",
            "TRAIN BATCH 4/11====>train loss[0.13789782] | train accuracy[85.71428571%]\n",
            "TRAIN BATCH 5/11====>train loss[0.14171132] | train accuracy[85.71428571%]\n",
            "TRAIN BATCH 6/11====>train loss[0.13638883] | train accuracy[100.00000000%]\n",
            "TRAIN BATCH 7/11====>train loss[0.13693729] | train accuracy[92.85714286%]\n",
            "TRAIN BATCH 8/11====>train loss[0.13317868] | train accuracy[100.00000000%]\n",
            "TRAIN BATCH 9/11====>train loss[0.12880486] | train accuracy[100.00000000%]\n",
            "TRAIN BATCH 10/11====>train loss[0.12682080] | train accuracy[92.85714286%]\n",
            "TRAIN BATCH 11/11====>train loss[0.12726963] | train accuracy[21.42857143%]\n",
            "validation batch index:0/3\n",
            "VALIDATION BATCH 1/3====>val loss[0.10023288] | val accuracy[92.85714286]\n",
            "validation batch index:1/3\n",
            "VALIDATION BATCH 2/3====>val loss[0.08933697] | val accuracy[100.00000000]\n",
            "validation batch index:2/3\n",
            "VALIDATION BATCH 3/3====>val loss[0.09664297] | val accuracy[50.00000000]\n",
            "previous Val_loss_min=0.12549346; new val_loss_min=0.09664297\n",
            "SAVED\n",
            "epoch 8 end\n",
            "epoch[9]\n",
            "TRAIN BATCH 1/11====>train loss[0.09824978] | train accuracy[100.00000000%]\n",
            "TRAIN BATCH 2/11====>train loss[0.09371410] | train accuracy[100.00000000%]\n",
            "TRAIN BATCH 3/11====>train loss[0.09386305] | train accuracy[100.00000000%]\n",
            "TRAIN BATCH 4/11====>train loss[0.10355557] | train accuracy[85.71428571%]\n",
            "TRAIN BATCH 5/11====>train loss[0.09913226] | train accuracy[100.00000000%]\n",
            "TRAIN BATCH 6/11====>train loss[0.09816638] | train accuracy[100.00000000%]\n",
            "TRAIN BATCH 7/11====>train loss[0.09708767] | train accuracy[100.00000000%]\n",
            "TRAIN BATCH 8/11====>train loss[0.09500891] | train accuracy[100.00000000%]\n",
            "TRAIN BATCH 9/11====>train loss[0.09179689] | train accuracy[100.00000000%]\n",
            "TRAIN BATCH 10/11====>train loss[0.09030637] | train accuracy[100.00000000%]\n",
            "TRAIN BATCH 11/11====>train loss[0.08817529] | train accuracy[21.42857143%]\n",
            "validation batch index:0/3\n",
            "VALIDATION BATCH 1/3====>val loss[0.07712695] | val accuracy[92.85714286]\n",
            "validation batch index:1/3\n",
            "VALIDATION BATCH 2/3====>val loss[0.06776578] | val accuracy[100.00000000]\n",
            "validation batch index:2/3\n",
            "VALIDATION BATCH 3/3====>val loss[0.07389187] | val accuracy[57.14285714]\n",
            "previous Val_loss_min=0.09664297; new val_loss_min=0.07389187\n",
            "SAVED\n",
            "epoch 9 end\n",
            "epoch[10]\n",
            "TRAIN BATCH 1/11====>train loss[0.08357979] | train accuracy[100.00000000%]\n",
            "TRAIN BATCH 2/11====>train loss[0.07786601] | train accuracy[100.00000000%]\n",
            "TRAIN BATCH 3/11====>train loss[0.08585389] | train accuracy[92.85714286%]\n",
            "TRAIN BATCH 4/11====>train loss[0.07799146] | train accuracy[100.00000000%]\n",
            "TRAIN BATCH 5/11====>train loss[0.07763738] | train accuracy[100.00000000%]\n",
            "TRAIN BATCH 6/11====>train loss[0.07475409] | train accuracy[100.00000000%]\n",
            "TRAIN BATCH 7/11====>train loss[0.07382613] | train accuracy[92.85714286%]\n",
            "TRAIN BATCH 8/11====>train loss[0.07149597] | train accuracy[100.00000000%]\n",
            "TRAIN BATCH 9/11====>train loss[0.06988050] | train accuracy[100.00000000%]\n",
            "TRAIN BATCH 10/11====>train loss[0.06863068] | train accuracy[100.00000000%]\n",
            "TRAIN BATCH 11/11====>train loss[0.06717091] | train accuracy[21.42857143%]\n",
            "validation batch index:0/3\n",
            "VALIDATION BATCH 1/3====>val loss[0.09149248] | val accuracy[92.85714286]\n",
            "validation batch index:1/3\n",
            "VALIDATION BATCH 2/3====>val loss[0.06912087] | val accuracy[100.00000000]\n",
            "validation batch index:2/3\n",
            "VALIDATION BATCH 3/3====>val loss[0.06703599] | val accuracy[57.14285714]\n",
            "previous Val_loss_min=0.07389187; new val_loss_min=0.06703599\n",
            "SAVED\n",
            "epoch 10 end\n"
          ]
        }
      ],
      "source": [
        "torch.cuda.empty_cache()\n",
        "trained_model=train_model(EPOCHS,trainLoader,valLoader,model, optimizer,ckpt_path,best_model_path)"
      ],
      "id": "UE7hvW4AcQTB"
    },
    {
      "cell_type": "code",
      "source": [
        "train_df2= page_df.sample(frac=0.8,random_state=200).reset_index(drop=True)"
      ],
      "metadata": {
        "id": "FT1vlCAlLGvo"
      },
      "id": "FT1vlCAlLGvo",
      "execution_count": 26,
      "outputs": []
    },
    {
      "cell_type": "code",
      "source": [
        "val_df2= page_df.drop(train_df2.index).reset_index(drop=True)"
      ],
      "metadata": {
        "id": "FCM7Gyh7s9Xs"
      },
      "id": "FCM7Gyh7s9Xs",
      "execution_count": 28,
      "outputs": []
    },
    {
      "cell_type": "code",
      "source": [
        "train_dataset2=myDataset(train_df2,tokenizer, MAX_LEN)\n",
        "val_dataset2 = myDataset(val_df2,tokenizer,MAX_LEN)"
      ],
      "metadata": {
        "id": "hR9txfKTMOu7"
      },
      "id": "hR9txfKTMOu7",
      "execution_count": 29,
      "outputs": []
    },
    {
      "cell_type": "code",
      "source": [
        "trainLoader2 = torch.utils.data.DataLoader(\n",
        "    train_dataset2,\n",
        "    shuffle=True,\n",
        "    batch_size = BATCH_SIZE,\n",
        "    num_workers= 0 \n",
        "    )\n",
        "valLoader2 = torch.utils.data.DataLoader(\n",
        "    val_dataset2,\n",
        "    shuffle=False,\n",
        "    batch_size = BATCH_SIZE,\n",
        "    num_workers= 0 \n",
        "    )"
      ],
      "metadata": {
        "id": "dW2V-AzBrQGK"
      },
      "id": "dW2V-AzBrQGK",
      "execution_count": 30,
      "outputs": []
    },
    {
      "cell_type": "code",
      "source": [
        "trained_model=train_model(EPOCHS,trainLoader2,valLoader2,model, optimizer,ckpt_path,best_model_path)"
      ],
      "metadata": {
        "colab": {
          "base_uri": "https://localhost:8080/"
        },
        "id": "9Gi_VALEucil",
        "outputId": "472d54d6-d106-4003-84bf-3eaef64d0f93"
      },
      "id": "9Gi_VALEucil",
      "execution_count": 31,
      "outputs": [
        {
          "output_type": "stream",
          "name": "stdout",
          "text": [
            "epoch[1]\n",
            "TRAIN BATCH 1/11====>train loss[0.06591234] | train accuracy[100.00000000%]\n",
            "TRAIN BATCH 2/11====>train loss[0.09367062] | train accuracy[85.71428571%]\n",
            "TRAIN BATCH 3/11====>train loss[0.10177842] | train accuracy[85.71428571%]\n",
            "TRAIN BATCH 4/11====>train loss[0.09901355] | train accuracy[85.71428571%]\n",
            "TRAIN BATCH 5/11====>train loss[0.09352551] | train accuracy[100.00000000%]\n",
            "TRAIN BATCH 6/11====>train loss[0.08731181] | train accuracy[100.00000000%]\n",
            "TRAIN BATCH 7/11====>train loss[0.09494212] | train accuracy[85.71428571%]\n",
            "TRAIN BATCH 8/11====>train loss[0.09714813] | train accuracy[85.71428571%]\n",
            "TRAIN BATCH 9/11====>train loss[0.09633655] | train accuracy[92.85714286%]\n",
            "TRAIN BATCH 10/11====>train loss[0.09365807] | train accuracy[92.85714286%]\n",
            "TRAIN BATCH 11/11====>train loss[0.09120258] | train accuracy[21.42857143%]\n",
            "validation batch index:0/3\n",
            "VALIDATION BATCH 1/3====>val loss[0.10591528] | val accuracy[92.85714286]\n",
            "validation batch index:1/3\n",
            "VALIDATION BATCH 2/3====>val loss[0.07989305] | val accuracy[100.00000000]\n",
            "validation batch index:2/3\n",
            "VALIDATION BATCH 3/3====>val loss[0.07276614] | val accuracy[57.14285714]\n",
            "previous Val_loss_min=inf; new val_loss_min=0.07276614\n",
            "SAVED\n",
            "epoch 1 end\n",
            "epoch[2]\n",
            "TRAIN BATCH 1/11====>train loss[0.08189106] | train accuracy[92.85714286%]\n",
            "TRAIN BATCH 2/11====>train loss[0.06923939] | train accuracy[100.00000000%]\n",
            "TRAIN BATCH 3/11====>train loss[0.07086867] | train accuracy[92.85714286%]\n",
            "TRAIN BATCH 4/11====>train loss[0.06827288] | train accuracy[100.00000000%]\n",
            "TRAIN BATCH 5/11====>train loss[0.06419424] | train accuracy[100.00000000%]\n",
            "TRAIN BATCH 6/11====>train loss[0.06818598] | train accuracy[92.85714286%]\n",
            "TRAIN BATCH 7/11====>train loss[0.06798329] | train accuracy[100.00000000%]\n",
            "TRAIN BATCH 8/11====>train loss[0.07111339] | train accuracy[92.85714286%]\n",
            "TRAIN BATCH 9/11====>train loss[0.06964190] | train accuracy[100.00000000%]\n",
            "TRAIN BATCH 10/11====>train loss[0.07165956] | train accuracy[92.85714286%]\n",
            "TRAIN BATCH 11/11====>train loss[0.06982496] | train accuracy[21.42857143%]\n",
            "validation batch index:0/3\n",
            "VALIDATION BATCH 1/3====>val loss[0.10088851] | val accuracy[85.71428571]\n",
            "validation batch index:1/3\n",
            "VALIDATION BATCH 2/3====>val loss[0.07591930] | val accuracy[100.00000000]\n",
            "validation batch index:2/3\n",
            "VALIDATION BATCH 3/3====>val loss[0.06524463] | val accuracy[57.14285714]\n",
            "previous Val_loss_min=0.07276614; new val_loss_min=0.06524463\n",
            "SAVED\n",
            "epoch 2 end\n",
            "epoch[3]\n",
            "TRAIN BATCH 1/11====>train loss[0.04650494] | train accuracy[100.00000000%]\n",
            "TRAIN BATCH 2/11====>train loss[0.04340270] | train accuracy[100.00000000%]\n",
            "TRAIN BATCH 3/11====>train loss[0.04845370] | train accuracy[100.00000000%]\n",
            "TRAIN BATCH 4/11====>train loss[0.04953689] | train accuracy[100.00000000%]\n",
            "TRAIN BATCH 5/11====>train loss[0.05102410] | train accuracy[92.85714286%]\n",
            "TRAIN BATCH 6/11====>train loss[0.04961085] | train accuracy[100.00000000%]\n",
            "TRAIN BATCH 7/11====>train loss[0.04737087] | train accuracy[100.00000000%]\n",
            "TRAIN BATCH 8/11====>train loss[0.04617568] | train accuracy[100.00000000%]\n",
            "TRAIN BATCH 9/11====>train loss[0.04554024] | train accuracy[100.00000000%]\n",
            "TRAIN BATCH 10/11====>train loss[0.04554972] | train accuracy[100.00000000%]\n",
            "TRAIN BATCH 11/11====>train loss[0.04496756] | train accuracy[21.42857143%]\n",
            "validation batch index:0/3\n",
            "VALIDATION BATCH 1/3====>val loss[0.07392376] | val accuracy[92.85714286]\n",
            "validation batch index:1/3\n",
            "VALIDATION BATCH 2/3====>val loss[0.05375365] | val accuracy[100.00000000]\n",
            "validation batch index:2/3\n",
            "VALIDATION BATCH 3/3====>val loss[0.04747370] | val accuracy[57.14285714]\n",
            "previous Val_loss_min=0.06524463; new val_loss_min=0.04747370\n",
            "SAVED\n",
            "epoch 3 end\n",
            "epoch[4]\n",
            "TRAIN BATCH 1/11====>train loss[0.03223274] | train accuracy[100.00000000%]\n",
            "TRAIN BATCH 2/11====>train loss[0.03546448] | train accuracy[100.00000000%]\n",
            "TRAIN BATCH 3/11====>train loss[0.03404533] | train accuracy[100.00000000%]\n",
            "TRAIN BATCH 4/11====>train loss[0.03666071] | train accuracy[100.00000000%]\n",
            "TRAIN BATCH 5/11====>train loss[0.03588340] | train accuracy[100.00000000%]\n",
            "TRAIN BATCH 6/11====>train loss[0.03474476] | train accuracy[100.00000000%]\n",
            "TRAIN BATCH 7/11====>train loss[0.03421149] | train accuracy[100.00000000%]\n",
            "TRAIN BATCH 8/11====>train loss[0.03395702] | train accuracy[100.00000000%]\n",
            "TRAIN BATCH 9/11====>train loss[0.03434989] | train accuracy[100.00000000%]\n",
            "TRAIN BATCH 10/11====>train loss[0.03440119] | train accuracy[100.00000000%]\n",
            "TRAIN BATCH 11/11====>train loss[0.03458831] | train accuracy[21.42857143%]\n",
            "validation batch index:0/3\n",
            "VALIDATION BATCH 1/3====>val loss[0.06418162] | val accuracy[92.85714286]\n",
            "validation batch index:1/3\n",
            "VALIDATION BATCH 2/3====>val loss[0.04622447] | val accuracy[100.00000000]\n",
            "validation batch index:2/3\n",
            "VALIDATION BATCH 3/3====>val loss[0.04075783] | val accuracy[57.14285714]\n",
            "previous Val_loss_min=0.04747370; new val_loss_min=0.04075783\n",
            "SAVED\n",
            "epoch 4 end\n",
            "epoch[5]\n",
            "TRAIN BATCH 1/11====>train loss[0.03352786] | train accuracy[100.00000000%]\n",
            "TRAIN BATCH 2/11====>train loss[0.03275197] | train accuracy[100.00000000%]\n",
            "TRAIN BATCH 3/11====>train loss[0.03049451] | train accuracy[100.00000000%]\n",
            "TRAIN BATCH 4/11====>train loss[0.03090927] | train accuracy[100.00000000%]\n",
            "TRAIN BATCH 5/11====>train loss[0.03117091] | train accuracy[100.00000000%]\n",
            "TRAIN BATCH 6/11====>train loss[0.03065277] | train accuracy[100.00000000%]\n",
            "TRAIN BATCH 7/11====>train loss[0.03033557] | train accuracy[100.00000000%]\n",
            "TRAIN BATCH 8/11====>train loss[0.03002808] | train accuracy[100.00000000%]\n",
            "TRAIN BATCH 9/11====>train loss[0.02946840] | train accuracy[100.00000000%]\n",
            "TRAIN BATCH 10/11====>train loss[0.02921106] | train accuracy[100.00000000%]\n",
            "TRAIN BATCH 11/11====>train loss[0.02836841] | train accuracy[21.42857143%]\n",
            "validation batch index:0/3\n",
            "VALIDATION BATCH 1/3====>val loss[0.05702453] | val accuracy[92.85714286]\n",
            "validation batch index:1/3\n",
            "VALIDATION BATCH 2/3====>val loss[0.04099114] | val accuracy[100.00000000]\n",
            "validation batch index:2/3\n",
            "VALIDATION BATCH 3/3====>val loss[0.03611097] | val accuracy[57.14285714]\n",
            "previous Val_loss_min=0.04075783; new val_loss_min=0.03611097\n",
            "SAVED\n",
            "epoch 5 end\n",
            "epoch[6]\n",
            "TRAIN BATCH 1/11====>train loss[0.02651951] | train accuracy[100.00000000%]\n",
            "TRAIN BATCH 2/11====>train loss[0.02734979] | train accuracy[100.00000000%]\n",
            "TRAIN BATCH 3/11====>train loss[0.02757905] | train accuracy[100.00000000%]\n",
            "TRAIN BATCH 4/11====>train loss[0.02653407] | train accuracy[100.00000000%]\n",
            "TRAIN BATCH 5/11====>train loss[0.02625041] | train accuracy[100.00000000%]\n",
            "TRAIN BATCH 6/11====>train loss[0.02632010] | train accuracy[100.00000000%]\n",
            "TRAIN BATCH 7/11====>train loss[0.02615187] | train accuracy[100.00000000%]\n",
            "TRAIN BATCH 8/11====>train loss[0.02604260] | train accuracy[100.00000000%]\n",
            "TRAIN BATCH 9/11====>train loss[0.02606863] | train accuracy[100.00000000%]\n",
            "TRAIN BATCH 10/11====>train loss[0.02568525] | train accuracy[100.00000000%]\n",
            "TRAIN BATCH 11/11====>train loss[0.02522847] | train accuracy[21.42857143%]\n",
            "validation batch index:0/3\n",
            "VALIDATION BATCH 1/3====>val loss[0.05354662] | val accuracy[92.85714286]\n",
            "validation batch index:1/3\n",
            "VALIDATION BATCH 2/3====>val loss[0.03777690] | val accuracy[100.00000000]\n",
            "validation batch index:2/3\n",
            "VALIDATION BATCH 3/3====>val loss[0.03306057] | val accuracy[57.14285714]\n",
            "previous Val_loss_min=0.03611097; new val_loss_min=0.03306057\n",
            "SAVED\n",
            "epoch 6 end\n",
            "epoch[7]\n",
            "TRAIN BATCH 1/11====>train loss[0.02348849] | train accuracy[100.00000000%]\n",
            "TRAIN BATCH 2/11====>train loss[0.02403877] | train accuracy[100.00000000%]\n",
            "TRAIN BATCH 3/11====>train loss[0.02519617] | train accuracy[100.00000000%]\n",
            "TRAIN BATCH 4/11====>train loss[0.02498590] | train accuracy[100.00000000%]\n",
            "TRAIN BATCH 5/11====>train loss[0.02511112] | train accuracy[100.00000000%]\n",
            "TRAIN BATCH 6/11====>train loss[0.02486135] | train accuracy[100.00000000%]\n",
            "TRAIN BATCH 7/11====>train loss[0.02423903] | train accuracy[100.00000000%]\n",
            "TRAIN BATCH 8/11====>train loss[0.02373260] | train accuracy[100.00000000%]\n",
            "TRAIN BATCH 9/11====>train loss[0.02324543] | train accuracy[100.00000000%]\n",
            "TRAIN BATCH 10/11====>train loss[0.02305987] | train accuracy[100.00000000%]\n",
            "TRAIN BATCH 11/11====>train loss[0.02273287] | train accuracy[21.42857143%]\n",
            "validation batch index:0/3\n",
            "VALIDATION BATCH 1/3====>val loss[0.05009541] | val accuracy[92.85714286]\n",
            "validation batch index:1/3\n",
            "VALIDATION BATCH 2/3====>val loss[0.03504512] | val accuracy[100.00000000]\n",
            "validation batch index:2/3\n",
            "VALIDATION BATCH 3/3====>val loss[0.03056808] | val accuracy[57.14285714]\n",
            "previous Val_loss_min=0.03306057; new val_loss_min=0.03056808\n",
            "SAVED\n",
            "epoch 7 end\n",
            "epoch[8]\n",
            "TRAIN BATCH 1/11====>train loss[0.02138161] | train accuracy[100.00000000%]\n",
            "TRAIN BATCH 2/11====>train loss[0.02043920] | train accuracy[100.00000000%]\n",
            "TRAIN BATCH 3/11====>train loss[0.02077021] | train accuracy[100.00000000%]\n",
            "TRAIN BATCH 4/11====>train loss[0.02062790] | train accuracy[100.00000000%]\n",
            "TRAIN BATCH 5/11====>train loss[0.02082324] | train accuracy[100.00000000%]\n",
            "TRAIN BATCH 6/11====>train loss[0.02075294] | train accuracy[100.00000000%]\n",
            "TRAIN BATCH 7/11====>train loss[0.02051885] | train accuracy[100.00000000%]\n",
            "TRAIN BATCH 8/11====>train loss[0.02059012] | train accuracy[100.00000000%]\n",
            "TRAIN BATCH 9/11====>train loss[0.02042449] | train accuracy[100.00000000%]\n",
            "TRAIN BATCH 10/11====>train loss[0.02094516] | train accuracy[100.00000000%]\n",
            "TRAIN BATCH 11/11====>train loss[0.02096168] | train accuracy[21.42857143%]\n",
            "validation batch index:0/3\n",
            "VALIDATION BATCH 1/3====>val loss[0.04793314] | val accuracy[92.85714286]\n",
            "validation batch index:1/3\n",
            "VALIDATION BATCH 2/3====>val loss[0.03314155] | val accuracy[100.00000000]\n",
            "validation batch index:2/3\n",
            "VALIDATION BATCH 3/3====>val loss[0.02868828] | val accuracy[57.14285714]\n",
            "previous Val_loss_min=0.03056808; new val_loss_min=0.02868828\n",
            "SAVED\n",
            "epoch 8 end\n",
            "epoch[9]\n",
            "TRAIN BATCH 1/11====>train loss[0.02040449] | train accuracy[100.00000000%]\n",
            "TRAIN BATCH 2/11====>train loss[0.01962217] | train accuracy[100.00000000%]\n",
            "TRAIN BATCH 3/11====>train loss[0.02013978] | train accuracy[100.00000000%]\n",
            "TRAIN BATCH 4/11====>train loss[0.02066795] | train accuracy[100.00000000%]\n",
            "TRAIN BATCH 5/11====>train loss[0.02049891] | train accuracy[100.00000000%]\n",
            "TRAIN BATCH 6/11====>train loss[0.02016408] | train accuracy[100.00000000%]\n",
            "TRAIN BATCH 7/11====>train loss[0.01999448] | train accuracy[100.00000000%]\n",
            "TRAIN BATCH 8/11====>train loss[0.01978751] | train accuracy[100.00000000%]\n",
            "TRAIN BATCH 9/11====>train loss[0.01944495] | train accuracy[100.00000000%]\n",
            "TRAIN BATCH 10/11====>train loss[0.01939676] | train accuracy[100.00000000%]\n",
            "TRAIN BATCH 11/11====>train loss[0.01906677] | train accuracy[21.42857143%]\n",
            "validation batch index:0/3\n",
            "VALIDATION BATCH 1/3====>val loss[0.04658233] | val accuracy[92.85714286]\n",
            "validation batch index:1/3\n",
            "VALIDATION BATCH 2/3====>val loss[0.03179026] | val accuracy[100.00000000]\n",
            "validation batch index:2/3\n",
            "VALIDATION BATCH 3/3====>val loss[0.02728669] | val accuracy[57.14285714]\n",
            "previous Val_loss_min=0.02868828; new val_loss_min=0.02728669\n",
            "SAVED\n",
            "epoch 9 end\n",
            "epoch[10]\n",
            "TRAIN BATCH 1/11====>train loss[0.02151978] | train accuracy[100.00000000%]\n",
            "TRAIN BATCH 2/11====>train loss[0.01919265] | train accuracy[100.00000000%]\n",
            "TRAIN BATCH 3/11====>train loss[0.01822418] | train accuracy[100.00000000%]\n",
            "TRAIN BATCH 4/11====>train loss[0.01793981] | train accuracy[100.00000000%]\n",
            "TRAIN BATCH 5/11====>train loss[0.01751277] | train accuracy[100.00000000%]\n",
            "TRAIN BATCH 6/11====>train loss[0.01708591] | train accuracy[100.00000000%]\n",
            "TRAIN BATCH 7/11====>train loss[0.01795032] | train accuracy[100.00000000%]\n",
            "TRAIN BATCH 8/11====>train loss[0.01793269] | train accuracy[100.00000000%]\n",
            "TRAIN BATCH 9/11====>train loss[0.01788068] | train accuracy[100.00000000%]\n",
            "TRAIN BATCH 10/11====>train loss[0.01791765] | train accuracy[100.00000000%]\n",
            "TRAIN BATCH 11/11====>train loss[0.01783796] | train accuracy[21.42857143%]\n",
            "validation batch index:0/3\n",
            "VALIDATION BATCH 1/3====>val loss[0.04534763] | val accuracy[92.85714286]\n",
            "validation batch index:1/3\n",
            "VALIDATION BATCH 2/3====>val loss[0.03058225] | val accuracy[100.00000000]\n",
            "validation batch index:2/3\n",
            "VALIDATION BATCH 3/3====>val loss[0.02606532] | val accuracy[57.14285714]\n",
            "previous Val_loss_min=0.02728669; new val_loss_min=0.02606532\n",
            "SAVED\n",
            "epoch 10 end\n"
          ]
        }
      ]
    },
    {
      "cell_type": "code",
      "source": [
        "test_dataset = myDataset(df_test,tokenizer,MAX_LEN)\n",
        "testLoader = torch.utils.data.DataLoader(\n",
        "    test_dataset,\n",
        "    shuffle=False,\n",
        "    batch_size = BATCH_SIZE,\n",
        "    num_workers= 0 \n",
        "    )\n",
        "df_test.shape"
      ],
      "metadata": {
        "colab": {
          "base_uri": "https://localhost:8080/"
        },
        "id": "XegQX51Oum4U",
        "outputId": "07551c16-9ae6-4259-9851-e9e8c565547a"
      },
      "id": "XegQX51Oum4U",
      "execution_count": 32,
      "outputs": [
        {
          "output_type": "execute_result",
          "data": {
            "text/plain": [
              "(90, 10)"
            ]
          },
          "metadata": {},
          "execution_count": 32
        }
      ]
    },
    {
      "cell_type": "code",
      "source": [
        "#testing\n",
        "test_accList =[]\n",
        "test_loss=0\n",
        "model.eval() \n",
        "with torch.no_grad():\n",
        "  for index, batch in enumerate(testLoader):\n",
        "    input_ids= batch['input_ids'].to(device, dtype= torch.long)\n",
        "    attention_mask = batch['attention_mask'].to(device, dtype= torch.long)\n",
        "    token_type_ids= batch['token_type_ids'].to(device, dtype= torch.long)\n",
        "    targets = batch['targets'].to(device, dtype= torch.float)\n",
        "    \n",
        "    output =model(input_ids,attention_mask,token_type_ids)\n",
        "    \n",
        "    loss= loss_fn(output,targets)\n",
        "    test_acc= accuracy(output,targets)\n",
        "    test_accList+= [test_acc]\n",
        "    test_loss = test_loss + ((1 / (index + 1)) * (loss.item() - test_loss))\n",
        "    print(\"TEST BATCH {}/{}====>test loss[{:.8f}] | test accuracy[{:.8f}]\".format(index+1,len(testLoader) , test_loss, test_acc ))\n",
        "    #final_output = torch.sigmoid(output).cpu().detach().numpy()\n",
        "    #print(np.argmax(targets.cpu().numpy(),axis=1), np.argmax(final_output, axis=1) )\n",
        "print(\"AVG Accuracy = \", sum(test_accList)/len(test_accList))"
      ],
      "metadata": {
        "colab": {
          "base_uri": "https://localhost:8080/"
        },
        "id": "w30iCyY9wM_W",
        "outputId": "6ab88c31-39b9-48b5-bf5f-c912aab68663"
      },
      "id": "w30iCyY9wM_W",
      "execution_count": 37,
      "outputs": [
        {
          "output_type": "stream",
          "name": "stdout",
          "text": [
            "TEST BATCH 1/7====>test loss[0.10268328] | test accuracy[85.71428571]\n",
            "TEST BATCH 2/7====>test loss[0.06064245] | test accuracy[100.00000000]\n",
            "TEST BATCH 3/7====>test loss[0.05761292] | test accuracy[92.85714286]\n",
            "TEST BATCH 4/7====>test loss[0.07725312] | test accuracy[85.71428571]\n",
            "TEST BATCH 5/7====>test loss[0.07983852] | test accuracy[85.71428571]\n",
            "TEST BATCH 6/7====>test loss[0.07501613] | test accuracy[92.85714286]\n",
            "TEST BATCH 7/7====>test loss[0.06702940] | test accuracy[42.85714286]\n",
            "AVG Accuracy =  83.6734693877551\n"
          ]
        }
      ]
    }
  ],
  "metadata": {
    "kernelspec": {
      "display_name": "Python 3",
      "language": "python",
      "name": "python3"
    },
    "language_info": {
      "codemirror_mode": {
        "name": "ipython",
        "version": 3
      },
      "file_extension": ".py",
      "mimetype": "text/x-python",
      "name": "python",
      "nbconvert_exporter": "python",
      "pygments_lexer": "ipython3",
      "version": "3.8.5"
    },
    "colab": {
      "name": "pages_model_up.ipynb",
      "provenance": [],
      "collapsed_sections": []
    },
    "accelerator": "GPU"
  },
  "nbformat": 4,
  "nbformat_minor": 5
}